{
  "nbformat": 4,
  "nbformat_minor": 0,
  "metadata": {
    "colab": {
      "name": "MNIST_1",
      "version": "0.3.2",
      "provenance": [],
      "collapsed_sections": [],
      "include_colab_link": true
    },
    "kernelspec": {
      "name": "python3",
      "display_name": "Python 3"
    },
    "accelerator": "GPU"
  },
  "cells": [
    {
      "cell_type": "markdown",
      "metadata": {
        "id": "view-in-github",
        "colab_type": "text"
      },
      "source": [
        "[View in Colaboratory](https://colab.research.google.com/github/raahatg21/Digit-Recognition-MNIST-Dataset-with-Keras/blob/master/MNIST_1.ipynb)"
      ]
    },
    {
      "metadata": {
        "id": "vsH_iNsSXHVg",
        "colab_type": "text"
      },
      "cell_type": "markdown",
      "source": [
        "# MNIST Dataset: Digit Classification"
      ]
    },
    {
      "metadata": {
        "id": "8gq7eaOYXLhN",
        "colab_type": "text"
      },
      "cell_type": "markdown",
      "source": [
        "**Simple Neural Network of Fully Connected Layers. Using Regularization, Dropout. 96% Accuary on Validation Set. 95.8% Accuracy on Test Set**"
      ]
    },
    {
      "metadata": {
        "id": "B6JMRg8dXLE1",
        "colab_type": "code",
        "colab": {}
      },
      "cell_type": "code",
      "source": [
        "import numpy as np\n",
        "import matplotlib.pyplot as plt\n",
        "plt.style.use('ggplot')"
      ],
      "execution_count": 0,
      "outputs": []
    },
    {
      "metadata": {
        "id": "Xj60VrPOU2lW",
        "colab_type": "code",
        "colab": {
          "base_uri": "https://localhost:8080/",
          "height": 34
        },
        "outputId": "e53a2cd9-8c77-45cd-d46e-75a5fd3cf263"
      },
      "cell_type": "code",
      "source": [
        "from keras.datasets import mnist\n",
        "from keras import layers\n",
        "from keras import models\n",
        "from keras import regularizers\n",
        "from keras.utils import to_categorical"
      ],
      "execution_count": 2,
      "outputs": [
        {
          "output_type": "stream",
          "text": [
            "Using TensorFlow backend.\n"
          ],
          "name": "stderr"
        }
      ]
    },
    {
      "metadata": {
        "id": "zByqoYDmXREC",
        "colab_type": "code",
        "colab": {
          "base_uri": "https://localhost:8080/",
          "height": 52
        },
        "outputId": "0c187ca6-dc29-404f-8094-5b8a301e0dfc"
      },
      "cell_type": "code",
      "source": [
        "# Importing the MNIST data that comes preloaded with Keras\n",
        "\n",
        "(train_data, train_labels), (test_data, test_labels) = mnist.load_data()"
      ],
      "execution_count": 3,
      "outputs": [
        {
          "output_type": "stream",
          "text": [
            "Downloading data from https://s3.amazonaws.com/img-datasets/mnist.npz\n",
            "11493376/11490434 [==============================] - 1s 0us/step\n"
          ],
          "name": "stdout"
        }
      ]
    },
    {
      "metadata": {
        "id": "cRDCix3Idem4",
        "colab_type": "code",
        "colab": {
          "base_uri": "https://localhost:8080/",
          "height": 34
        },
        "outputId": "948ef9d0-0d5e-4801-9c10-c305b1e91517"
      },
      "cell_type": "code",
      "source": [
        "train_data.shape, test_data.shape"
      ],
      "execution_count": 4,
      "outputs": [
        {
          "output_type": "execute_result",
          "data": {
            "text/plain": [
              "((60000, 28, 28), (10000, 28, 28))"
            ]
          },
          "metadata": {
            "tags": []
          },
          "execution_count": 4
        }
      ]
    },
    {
      "metadata": {
        "id": "HLx4CyXCdh1u",
        "colab_type": "code",
        "colab": {}
      },
      "cell_type": "code",
      "source": [
        "# Preprocessing the Data (Reshaping the images and making pixel values between 0 ans 1)\n",
        "\n",
        "train_data = train_data.reshape((60000, 28 * 28))\n",
        "train_data = train_data.astype('float32')/255\n",
        "\n",
        "test_data = test_data.reshape((10000, 28 * 28))\n",
        "test_data = test_data.astype('float32')/255"
      ],
      "execution_count": 0,
      "outputs": []
    },
    {
      "metadata": {
        "id": "xyXABhtcjJbG",
        "colab_type": "code",
        "colab": {
          "base_uri": "https://localhost:8080/",
          "height": 34
        },
        "outputId": "c8fd821b-532b-4fa0-a247-dd4b22a1abc2"
      },
      "cell_type": "code",
      "source": [
        "# Example of a label\n",
        "\n",
        "train_labels[2]"
      ],
      "execution_count": 6,
      "outputs": [
        {
          "output_type": "execute_result",
          "data": {
            "text/plain": [
              "4"
            ]
          },
          "metadata": {
            "tags": []
          },
          "execution_count": 6
        }
      ]
    },
    {
      "metadata": {
        "id": "X8UJW9T1eQsJ",
        "colab_type": "code",
        "colab": {}
      },
      "cell_type": "code",
      "source": [
        "# One Hot Encoding of Labels\n",
        "\n",
        "train_labels = to_categorical(train_labels, num_classes = 10)\n",
        "test_labels = to_categorical(test_labels, num_classes = 10)"
      ],
      "execution_count": 0,
      "outputs": []
    },
    {
      "metadata": {
        "id": "BSAQcrlVi8-S",
        "colab_type": "code",
        "colab": {
          "base_uri": "https://localhost:8080/",
          "height": 34
        },
        "outputId": "13cc5e31-be5e-4bde-ef2f-df95d5f2bea3"
      },
      "cell_type": "code",
      "source": [
        "# Example of label after One-Hot Encoding\n",
        "\n",
        "train_labels[2]"
      ],
      "execution_count": 8,
      "outputs": [
        {
          "output_type": "execute_result",
          "data": {
            "text/plain": [
              "array([0., 0., 0., 0., 1., 0., 0., 0., 0., 0.], dtype=float32)"
            ]
          },
          "metadata": {
            "tags": []
          },
          "execution_count": 8
        }
      ]
    },
    {
      "metadata": {
        "id": "bGyGzrI3juiE",
        "colab_type": "code",
        "colab": {}
      },
      "cell_type": "code",
      "source": [
        "# Validation Data (10,000 samples of Training Set)\n",
        "\n",
        "val_data = train_data[:10000]\n",
        "val_labels = train_labels[:10000]\n",
        "\n",
        "partial_train_data = train_data[10000:]\n",
        "partial_train_labels = train_labels[10000:]"
      ],
      "execution_count": 0,
      "outputs": []
    },
    {
      "metadata": {
        "id": "lCHe8RoPjRMu",
        "colab_type": "code",
        "colab": {}
      },
      "cell_type": "code",
      "source": [
        "# Building the Model (Using 3 Dense layers and regularization. Alternatively, Dropout can also be used.)\n",
        "\n",
        "model = models.Sequential()\n",
        "model.add(layers.Dense(32, activation = 'relu', kernel_regularizer = regularizers.l2(0.01), input_shape = (28 * 28,)))\n",
        "# model.add(layers.Dropout(0.5))\n",
        "model.add(layers.Dense(64, activation = 'relu', kernel_regularizer = regularizers.l2(0.01)))\n",
        "# model.add(layers.Dropout(0.5))\n",
        "model.add(layers.Dense(10, activation = 'softmax'))"
      ],
      "execution_count": 0,
      "outputs": []
    },
    {
      "metadata": {
        "id": "n4SyYM9bXZHq",
        "colab_type": "code",
        "colab": {
          "base_uri": "https://localhost:8080/",
          "height": 243
        },
        "outputId": "b1627dbd-cb50-4ecf-c95c-4266c7308e58"
      },
      "cell_type": "code",
      "source": [
        "model.summary()"
      ],
      "execution_count": 11,
      "outputs": [
        {
          "output_type": "stream",
          "text": [
            "_________________________________________________________________\n",
            "Layer (type)                 Output Shape              Param #   \n",
            "=================================================================\n",
            "dense_1 (Dense)              (None, 32)                25120     \n",
            "_________________________________________________________________\n",
            "dense_2 (Dense)              (None, 64)                2112      \n",
            "_________________________________________________________________\n",
            "dense_3 (Dense)              (None, 10)                650       \n",
            "=================================================================\n",
            "Total params: 27,882\n",
            "Trainable params: 27,882\n",
            "Non-trainable params: 0\n",
            "_________________________________________________________________\n"
          ],
          "name": "stdout"
        }
      ]
    },
    {
      "metadata": {
        "id": "XYuoql_XnsIR",
        "colab_type": "code",
        "colab": {}
      },
      "cell_type": "code",
      "source": [
        "# Compiling the Model\n",
        "\n",
        "model.compile(optimizer = 'rmsprop', loss = 'categorical_crossentropy', metrics = ['acc'])"
      ],
      "execution_count": 0,
      "outputs": []
    },
    {
      "metadata": {
        "id": "dILiRQ10n01y",
        "colab_type": "code",
        "colab": {
          "base_uri": "https://localhost:8080/",
          "height": 1007
        },
        "outputId": "ee0f6d99-9836-4de9-b9d8-cb98073d7c7f"
      },
      "cell_type": "code",
      "source": [
        "# Training\n",
        "\n",
        "history = model.fit(partial_train_data, partial_train_labels, epochs = 28, batch_size = 128, validation_data = (val_data, val_labels), verbose = 2)"
      ],
      "execution_count": 13,
      "outputs": [
        {
          "output_type": "stream",
          "text": [
            "Train on 50000 samples, validate on 10000 samples\n",
            "Epoch 1/28\n",
            " - 4s - loss: 1.0145 - acc: 0.8558 - val_loss: 0.6777 - val_acc: 0.9084\n",
            "Epoch 2/28\n",
            " - 2s - loss: 0.6125 - acc: 0.9069 - val_loss: 0.5471 - val_acc: 0.9141\n",
            "Epoch 3/28\n",
            " - 2s - loss: 0.5287 - acc: 0.9151 - val_loss: 0.5296 - val_acc: 0.9091\n",
            "Epoch 4/28\n",
            " - 2s - loss: 0.4819 - acc: 0.9216 - val_loss: 0.4726 - val_acc: 0.9214\n",
            "Epoch 5/28\n",
            " - 2s - loss: 0.4507 - acc: 0.9263 - val_loss: 0.4367 - val_acc: 0.9308\n",
            "Epoch 6/28\n",
            " - 2s - loss: 0.4276 - acc: 0.9299 - val_loss: 0.4033 - val_acc: 0.9387\n",
            "Epoch 7/28\n",
            " - 2s - loss: 0.4070 - acc: 0.9337 - val_loss: 0.3880 - val_acc: 0.9392\n",
            "Epoch 8/28\n",
            " - 2s - loss: 0.3898 - acc: 0.9359 - val_loss: 0.3710 - val_acc: 0.9436\n",
            "Epoch 9/28\n",
            " - 2s - loss: 0.3748 - acc: 0.9401 - val_loss: 0.3682 - val_acc: 0.9403\n",
            "Epoch 10/28\n",
            " - 2s - loss: 0.3616 - acc: 0.9416 - val_loss: 0.3500 - val_acc: 0.9466\n",
            "Epoch 11/28\n",
            " - 2s - loss: 0.3503 - acc: 0.9435 - val_loss: 0.3589 - val_acc: 0.9416\n",
            "Epoch 12/28\n",
            " - 2s - loss: 0.3413 - acc: 0.9450 - val_loss: 0.3437 - val_acc: 0.9421\n",
            "Epoch 13/28\n",
            " - 2s - loss: 0.3346 - acc: 0.9460 - val_loss: 0.3440 - val_acc: 0.9447\n",
            "Epoch 14/28\n",
            " - 2s - loss: 0.3265 - acc: 0.9476 - val_loss: 0.3116 - val_acc: 0.9515\n",
            "Epoch 15/28\n",
            " - 2s - loss: 0.3201 - acc: 0.9488 - val_loss: 0.3301 - val_acc: 0.9435\n",
            "Epoch 16/28\n",
            " - 3s - loss: 0.3145 - acc: 0.9502 - val_loss: 0.3079 - val_acc: 0.9519\n",
            "Epoch 17/28\n",
            " - 3s - loss: 0.3068 - acc: 0.9513 - val_loss: 0.3071 - val_acc: 0.9500\n",
            "Epoch 18/28\n",
            " - 2s - loss: 0.3016 - acc: 0.9524 - val_loss: 0.2975 - val_acc: 0.9538\n",
            "Epoch 19/28\n",
            " - 2s - loss: 0.2980 - acc: 0.9521 - val_loss: 0.3008 - val_acc: 0.9509\n",
            "Epoch 20/28\n",
            " - 3s - loss: 0.2924 - acc: 0.9532 - val_loss: 0.2940 - val_acc: 0.9533\n",
            "Epoch 21/28\n",
            " - 3s - loss: 0.2889 - acc: 0.9542 - val_loss: 0.2908 - val_acc: 0.9541\n",
            "Epoch 22/28\n",
            " - 3s - loss: 0.2845 - acc: 0.9542 - val_loss: 0.2959 - val_acc: 0.9503\n",
            "Epoch 23/28\n",
            " - 2s - loss: 0.2816 - acc: 0.9552 - val_loss: 0.2902 - val_acc: 0.9512\n",
            "Epoch 24/28\n",
            " - 2s - loss: 0.2777 - acc: 0.9558 - val_loss: 0.2802 - val_acc: 0.9522\n",
            "Epoch 25/28\n",
            " - 2s - loss: 0.2740 - acc: 0.9569 - val_loss: 0.2961 - val_acc: 0.9454\n",
            "Epoch 26/28\n",
            " - 2s - loss: 0.2698 - acc: 0.9576 - val_loss: 0.2960 - val_acc: 0.9473\n",
            "Epoch 27/28\n",
            " - 2s - loss: 0.2680 - acc: 0.9571 - val_loss: 0.2642 - val_acc: 0.9583\n",
            "Epoch 28/28\n",
            " - 2s - loss: 0.2673 - acc: 0.9570 - val_loss: 0.2767 - val_acc: 0.9529\n"
          ],
          "name": "stdout"
        }
      ]
    },
    {
      "metadata": {
        "id": "YF6fkZljqZD3",
        "colab_type": "code",
        "colab": {}
      },
      "cell_type": "code",
      "source": [
        "loss = history.history['loss']\n",
        "val_loss = history.history['val_loss']\n",
        "acc = history.history['acc']\n",
        "val_acc = history.history['val_acc']"
      ],
      "execution_count": 0,
      "outputs": []
    },
    {
      "metadata": {
        "id": "AmTb0-xooGmj",
        "colab_type": "code",
        "colab": {
          "base_uri": "https://localhost:8080/",
          "height": 380
        },
        "outputId": "43a1f543-7300-4c62-9c25-dcb1175bceac"
      },
      "cell_type": "code",
      "source": [
        "# Training and Validation Loss\n",
        "\n",
        "epochs = range (1, 29)\n",
        "\n",
        "plt.plot(epochs, loss, 'bo', label = 'Training Loss')\n",
        "plt.plot(epochs, val_loss, 'b', label = 'Validation Loss')\n",
        "plt.title('Training and Validation Loss')\n",
        "plt.xlabel('Epochs')\n",
        "plt.ylabel('Loss')\n",
        "plt.legend()\n",
        "plt.show()"
      ],
      "execution_count": 15,
      "outputs": [
        {
          "output_type": "display_data",
          "data": {
            "image/png": "[encoded data removed]",
            "text/plain": [
              "<matplotlib.figure.Figure at 0x7fe9e036b198>"
            ]
          },
          "metadata": {
            "tags": []
          }
        }
      ]
    },
    {
      "metadata": {
        "id": "qh32WaMTl7vs",
        "colab_type": "code",
        "colab": {
          "base_uri": "https://localhost:8080/",
          "height": 380
        },
        "outputId": "f6998bb1-8800-4a7a-95c8-9abbd27a7142"
      },
      "cell_type": "code",
      "source": [
        "# Training and Validation Accuracy\n",
        "\n",
        "plt.plot(epochs, acc, 'ko', label = 'Training Accuracy')\n",
        "plt.plot(epochs, val_acc, 'k', label = 'Validation Accuracy')\n",
        "plt.title('Training and Validation Accuracy')\n",
        "plt.xlabel('Epochs')\n",
        "plt.ylabel('Accuracy')\n",
        "plt.legend()\n",
        "plt.show()"
      ],
      "execution_count": 16,
      "outputs": [
        {
          "output_type": "display_data",
          "data": {
            "image/png": "[encoded data removed]",
            "text/plain": [
              "<matplotlib.figure.Figure at 0x7fe9e036b208>"
            ]
          },
          "metadata": {
            "tags": []
          }
        }
      ]
    },
    {
      "metadata": {
        "id": "hNPTrEKImNs6",
        "colab_type": "code",
        "colab": {
          "base_uri": "https://localhost:8080/",
          "height": 52
        },
        "outputId": "b740c5ac-2b84-4971-d1f7-7ce05a0ba261"
      },
      "cell_type": "code",
      "source": [
        "# Evaluate on Test Data\n",
        "\n",
        "test_loss, test_acc = model.evaluate(test_data, test_labels)\n",
        "test_loss, test_acc"
      ],
      "execution_count": 17,
      "outputs": [
        {
          "output_type": "stream",
          "text": [
            "10000/10000 [==============================] - 1s 75us/step\n"
          ],
          "name": "stdout"
        },
        {
          "output_type": "execute_result",
          "data": {
            "text/plain": [
              "(0.2585541484117508, 0.9582)"
            ]
          },
          "metadata": {
            "tags": []
          },
          "execution_count": 17
        }
      ]
    }
  ]
}