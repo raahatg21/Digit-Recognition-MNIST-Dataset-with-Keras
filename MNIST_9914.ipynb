{
  "nbformat": 4,
  "nbformat_minor": 0,
  "metadata": {
    "colab": {
      "name": "MNIST_2.ipynb",
      "version": "0.3.2",
      "provenance": [],
      "collapsed_sections": [],
      "include_colab_link": true
    },
    "kernelspec": {
      "name": "python3",
      "display_name": "Python 3"
    },
    "accelerator": "GPU"
  },
  "cells": [
    {
      "cell_type": "markdown",
      "metadata": {
        "id": "view-in-github",
        "colab_type": "text"
      },
      "source": [
        "[View in Colaboratory](https://colab.research.google.com/github/raahatg21/Digit-Recognition-MNIST-Dataset-with-Keras/blob/master/MNIST_2.ipynb)"
      ]
    },
    {
      "metadata": {
        "id": "14inq5rRYQnE",
        "colab_type": "text"
      },
      "cell_type": "markdown",
      "source": [
        "# MNIST Dataset: Image Classification"
      ]
    },
    {
      "metadata": {
        "id": "bViIm4_-X1AM",
        "colab_type": "text"
      },
      "cell_type": "markdown",
      "source": [
        "**Using Convulution Neural Network trained from scratch. 99.15% Validation Accuracy. 99.14% Test Accuracy.**"
      ]
    },
    {
      "metadata": {
        "id": "DxCxYcyvYPlp",
        "colab_type": "code",
        "colab": {}
      },
      "cell_type": "code",
      "source": [
        "import numpy as np\n",
        "import matplotlib.pyplot as plt\n",
        "plt.style.use('ggplot')"
      ],
      "execution_count": 0,
      "outputs": []
    },
    {
      "metadata": {
        "id": "Y1yOTJQCYYjB",
        "colab_type": "code",
        "colab": {
          "base_uri": "https://localhost:8080/",
          "height": 34
        },
        "outputId": "ac2b260f-e63d-41fd-c0b3-2ff903869cec"
      },
      "cell_type": "code",
      "source": [
        "from keras.datasets import mnist\n",
        "from keras import models\n",
        "from keras import layers\n",
        "from keras.utils import to_categorical"
      ],
      "execution_count": 2,
      "outputs": [
        {
          "output_type": "stream",
          "text": [
            "Using TensorFlow backend.\n"
          ],
          "name": "stderr"
        }
      ]
    },
    {
      "metadata": {
        "id": "Xosgi2XOYtxB",
        "colab_type": "code",
        "colab": {}
      },
      "cell_type": "code",
      "source": [
        "# Importing the MNIST data that comes preloaded with Keras\n",
        "\n",
        "(train_data, train_labels), (test_data, test_labels) = mnist.load_data()"
      ],
      "execution_count": 0,
      "outputs": []
    },
    {
      "metadata": {
        "id": "2BNzRkODY0u2",
        "colab_type": "code",
        "colab": {
          "base_uri": "https://localhost:8080/",
          "height": 34
        },
        "outputId": "44f97880-bdc4-4cd0-d201-935b2a438ccf"
      },
      "cell_type": "code",
      "source": [
        "train_data.shape, train_labels.shape"
      ],
      "execution_count": 4,
      "outputs": [
        {
          "output_type": "execute_result",
          "data": {
            "text/plain": [
              "((60000, 28, 28), (60000,))"
            ]
          },
          "metadata": {
            "tags": []
          },
          "execution_count": 4
        }
      ]
    },
    {
      "metadata": {
        "id": "ok1ThhAdZl3E",
        "colab_type": "code",
        "colab": {
          "base_uri": "https://localhost:8080/",
          "height": 34
        },
        "outputId": "e3c4f986-4c62-4397-9f02-cac29eea9eab"
      },
      "cell_type": "code",
      "source": [
        "test_data.shape, test_labels.shape"
      ],
      "execution_count": 5,
      "outputs": [
        {
          "output_type": "execute_result",
          "data": {
            "text/plain": [
              "((10000, 28, 28), (10000,))"
            ]
          },
          "metadata": {
            "tags": []
          },
          "execution_count": 5
        }
      ]
    },
    {
      "metadata": {
        "id": "IaxkwwqFY5SR",
        "colab_type": "code",
        "colab": {}
      },
      "cell_type": "code",
      "source": [
        "# Preprocessing the Data\n",
        "\n",
        "train_data = train_data.reshape((60000, 28, 28, 1))\n",
        "train_data = train_data.astype('float32')/255\n",
        "\n",
        "test_data = test_data.reshape((10000, 28, 28, 1))\n",
        "test_data = test_data.astype('float32')/255"
      ],
      "execution_count": 0,
      "outputs": []
    },
    {
      "metadata": {
        "id": "iFupp9NvZhuV",
        "colab_type": "code",
        "colab": {}
      },
      "cell_type": "code",
      "source": [
        "# Preprocessing the Labels\n",
        "\n",
        "train_labels = to_categorical(train_labels, num_classes = 10)\n",
        "test_labels = to_categorical(test_labels, num_classes = 10)"
      ],
      "execution_count": 0,
      "outputs": []
    },
    {
      "metadata": {
        "id": "69NrozUaZ-tn",
        "colab_type": "code",
        "colab": {
          "base_uri": "https://localhost:8080/",
          "height": 52
        },
        "outputId": "b000f6df-d528-42cc-a868-e26dcfc56ea0"
      },
      "cell_type": "code",
      "source": [
        "# As an example\n",
        "\n",
        "train_labels[1], test_labels[4]"
      ],
      "execution_count": 8,
      "outputs": [
        {
          "output_type": "execute_result",
          "data": {
            "text/plain": [
              "(array([1., 0., 0., 0., 0., 0., 0., 0., 0., 0.], dtype=float32),\n",
              " array([0., 0., 0., 0., 1., 0., 0., 0., 0., 0.], dtype=float32))"
            ]
          },
          "metadata": {
            "tags": []
          },
          "execution_count": 8
        }
      ]
    },
    {
      "metadata": {
        "id": "IEfMrkPqaE9s",
        "colab_type": "code",
        "colab": {}
      },
      "cell_type": "code",
      "source": [
        "# Validation Split (First 10,000 samples of Training Set)\n",
        "\n",
        "partial_train_data = train_data[10000:]\n",
        "partial_train_labels = train_labels[10000:]\n",
        "\n",
        "val_data = train_data[:10000]\n",
        "val_labels = train_labels[:10000]"
      ],
      "execution_count": 0,
      "outputs": []
    },
    {
      "metadata": {
        "id": "AQjUb973adW5",
        "colab_type": "code",
        "colab": {
          "base_uri": "https://localhost:8080/",
          "height": 121
        },
        "outputId": "66c77903-6ca8-4ed4-892a-590505d273d1"
      },
      "cell_type": "code",
      "source": [
        "partial_train_data.shape, partial_train_labels.shape, val_data.shape, val_labels.shape, test_data.shape, test_labels.shape"
      ],
      "execution_count": 10,
      "outputs": [
        {
          "output_type": "execute_result",
          "data": {
            "text/plain": [
              "((50000, 28, 28, 1),\n",
              " (50000, 10),\n",
              " (10000, 28, 28, 1),\n",
              " (10000, 10),\n",
              " (10000, 28, 28, 1),\n",
              " (10000, 10))"
            ]
          },
          "metadata": {
            "tags": []
          },
          "execution_count": 10
        }
      ]
    },
    {
      "metadata": {
        "id": "UCf6BfZMatXX",
        "colab_type": "code",
        "colab": {}
      },
      "cell_type": "code",
      "source": [
        "# Building the Model (Convnet of 3 Pairs of Conv2D-MaxPool layers and 2 Dense layers. Dropout is also used to fight overfitting.)\n",
        "\n",
        "model = models.Sequential()\n",
        "model.add(layers.Conv2D(32, (3, 3), activation = 'relu', input_shape = (28, 28, 1)))\n",
        "model.add(layers.MaxPooling2D(2, 2))\n",
        "model.add(layers.Dropout(0.5))\n",
        "model.add(layers.Conv2D(64, (3, 3), activation = 'relu'))\n",
        "model.add(layers.MaxPooling2D(2, 2))\n",
        "model.add(layers.Dropout(0.5))\n",
        "model.add(layers.Conv2D(64, (3, 3), activation = 'relu'))\n",
        "model.add(layers.Flatten())\n",
        "model.add(layers.Dense(128, activation = 'relu'))\n",
        "model.add(layers.Dropout(0.5))\n",
        "model.add(layers.Dense(10, activation = 'softmax'))"
      ],
      "execution_count": 0,
      "outputs": []
    },
    {
      "metadata": {
        "id": "bOPPad-mdOQ7",
        "colab_type": "code",
        "colab": {
          "base_uri": "https://localhost:8080/",
          "height": 521
        },
        "outputId": "80dedbe2-39a8-453e-bad4-6ac5172302f3"
      },
      "cell_type": "code",
      "source": [
        "model.summary()"
      ],
      "execution_count": 12,
      "outputs": [
        {
          "output_type": "stream",
          "text": [
            "_________________________________________________________________\n",
            "Layer (type)                 Output Shape              Param #   \n",
            "=================================================================\n",
            "conv2d_1 (Conv2D)            (None, 26, 26, 32)        320       \n",
            "_________________________________________________________________\n",
            "max_pooling2d_1 (MaxPooling2 (None, 13, 13, 32)        0         \n",
            "_________________________________________________________________\n",
            "dropout_1 (Dropout)          (None, 13, 13, 32)        0         \n",
            "_________________________________________________________________\n",
            "conv2d_2 (Conv2D)            (None, 11, 11, 64)        18496     \n",
            "_________________________________________________________________\n",
            "max_pooling2d_2 (MaxPooling2 (None, 5, 5, 64)          0         \n",
            "_________________________________________________________________\n",
            "dropout_2 (Dropout)          (None, 5, 5, 64)          0         \n",
            "_________________________________________________________________\n",
            "conv2d_3 (Conv2D)            (None, 3, 3, 64)          36928     \n",
            "_________________________________________________________________\n",
            "flatten_1 (Flatten)          (None, 576)               0         \n",
            "_________________________________________________________________\n",
            "dense_1 (Dense)              (None, 128)               73856     \n",
            "_________________________________________________________________\n",
            "dropout_3 (Dropout)          (None, 128)               0         \n",
            "_________________________________________________________________\n",
            "dense_2 (Dense)              (None, 10)                1290      \n",
            "=================================================================\n",
            "Total params: 130,890\n",
            "Trainable params: 130,890\n",
            "Non-trainable params: 0\n",
            "_________________________________________________________________\n"
          ],
          "name": "stdout"
        }
      ]
    },
    {
      "metadata": {
        "id": "1jDqwKkpdP7c",
        "colab_type": "code",
        "colab": {}
      },
      "cell_type": "code",
      "source": [
        "# Compiling the Model\n",
        "\n",
        "model.compile(optimizer = 'rmsprop', loss = 'categorical_crossentropy', metrics = ['acc'])"
      ],
      "execution_count": 0,
      "outputs": []
    },
    {
      "metadata": {
        "id": "GA3iXGOhdd9v",
        "colab_type": "code",
        "colab": {
          "base_uri": "https://localhost:8080/",
          "height": 729
        },
        "outputId": "c1167b24-e755-4bf7-d81c-bff7d5827165"
      },
      "cell_type": "code",
      "source": [
        "# Training\n",
        "\n",
        "history = model.fit(partial_train_data, partial_train_labels, epochs = 20, batch_size = 128, validation_data = (val_data, val_labels), verbose = 2)"
      ],
      "execution_count": 14,
      "outputs": [
        {
          "output_type": "stream",
          "text": [
            "Train on 50000 samples, validate on 10000 samples\n",
            "Epoch 1/20\n",
            " - 8s - loss: 0.5189 - acc: 0.8317 - val_loss: 0.1224 - val_acc: 0.9617\n",
            "Epoch 2/20\n",
            " - 6s - loss: 0.1563 - acc: 0.9524 - val_loss: 0.0671 - val_acc: 0.9797\n",
            "Epoch 3/20\n",
            " - 6s - loss: 0.1086 - acc: 0.9672 - val_loss: 0.0628 - val_acc: 0.9808\n",
            "Epoch 4/20\n",
            " - 6s - loss: 0.0912 - acc: 0.9730 - val_loss: 0.0465 - val_acc: 0.9865\n",
            "Epoch 5/20\n",
            " - 6s - loss: 0.0793 - acc: 0.9758 - val_loss: 0.0470 - val_acc: 0.9865\n",
            "Epoch 6/20\n",
            " - 6s - loss: 0.0708 - acc: 0.9791 - val_loss: 0.0458 - val_acc: 0.9868\n",
            "Epoch 7/20\n",
            " - 6s - loss: 0.0658 - acc: 0.9801 - val_loss: 0.0362 - val_acc: 0.9892\n",
            "Epoch 8/20\n",
            " - 6s - loss: 0.0627 - acc: 0.9815 - val_loss: 0.0365 - val_acc: 0.9891\n",
            "Epoch 9/20\n",
            " - 6s - loss: 0.0609 - acc: 0.9820 - val_loss: 0.0364 - val_acc: 0.9897\n",
            "Epoch 10/20\n",
            " - 6s - loss: 0.0564 - acc: 0.9832 - val_loss: 0.0337 - val_acc: 0.9910\n",
            "Epoch 11/20\n",
            " - 6s - loss: 0.0547 - acc: 0.9840 - val_loss: 0.0338 - val_acc: 0.9909\n",
            "Epoch 12/20\n",
            " - 6s - loss: 0.0552 - acc: 0.9844 - val_loss: 0.0393 - val_acc: 0.9885\n",
            "Epoch 13/20\n",
            " - 6s - loss: 0.0549 - acc: 0.9837 - val_loss: 0.0414 - val_acc: 0.9882\n",
            "Epoch 14/20\n",
            " - 6s - loss: 0.0546 - acc: 0.9843 - val_loss: 0.0367 - val_acc: 0.9905\n",
            "Epoch 15/20\n",
            " - 6s - loss: 0.0540 - acc: 0.9851 - val_loss: 0.0331 - val_acc: 0.9912\n",
            "Epoch 16/20\n",
            " - 6s - loss: 0.0548 - acc: 0.9851 - val_loss: 0.0320 - val_acc: 0.9915\n",
            "Epoch 17/20\n",
            " - 6s - loss: 0.0579 - acc: 0.9845 - val_loss: 0.0340 - val_acc: 0.9905\n",
            "Epoch 18/20\n",
            " - 6s - loss: 0.0577 - acc: 0.9847 - val_loss: 0.0337 - val_acc: 0.9908\n",
            "Epoch 19/20\n",
            " - 6s - loss: 0.0600 - acc: 0.9841 - val_loss: 0.0372 - val_acc: 0.9906\n",
            "Epoch 20/20\n",
            " - 6s - loss: 0.0565 - acc: 0.9850 - val_loss: 0.0457 - val_acc: 0.9883\n"
          ],
          "name": "stdout"
        }
      ]
    },
    {
      "metadata": {
        "id": "tPq8bsfCdv8L",
        "colab_type": "code",
        "colab": {}
      },
      "cell_type": "code",
      "source": [
        "loss = history.history['loss']\n",
        "val_loss = history.history['val_loss']\n",
        "acc = history.history['acc']\n",
        "val_acc = history.history['val_acc']"
      ],
      "execution_count": 0,
      "outputs": []
    },
    {
      "metadata": {
        "id": "-ByGc-F0gn_W",
        "colab_type": "code",
        "colab": {
          "base_uri": "https://localhost:8080/",
          "height": 363
        },
        "outputId": "766fd52f-9100-4c0f-a1e3-966158d2b5c5"
      },
      "cell_type": "code",
      "source": [
        "# Plotting Training and Validation Loss\n",
        "\n",
        "epochs = range(1, 21)\n",
        "\n",
        "plt.plot(epochs, loss, 'ko', label = 'Training Loss')\n",
        "plt.plot(epochs, val_loss, 'k', label = 'Validation Loss')\n",
        "plt.xlabel('Epochs')\n",
        "plt.ylabel('Loss')\n",
        "plt.legend()\n",
        "plt.show()"
      ],
      "execution_count": 16,
      "outputs": [
        {
          "output_type": "display_data",
          "data": {
            "image/png": "[encoded data removed]",
            "text/plain": [
              "<matplotlib.figure.Figure at 0x7f7863f237b8>"
            ]
          },
          "metadata": {
            "tags": []
          }
        }
      ]
    },
    {
      "metadata": {
        "id": "pSDQ2KSbg-zr",
        "colab_type": "code",
        "colab": {
          "base_uri": "https://localhost:8080/",
          "height": 363
        },
        "outputId": "9f03cbab-02fa-4166-d83e-e507a6edf3ab"
      },
      "cell_type": "code",
      "source": [
        "# Plotting Training and Validation Accuracy\n",
        "\n",
        "\n",
        "plt.plot(epochs, acc, 'yo', label = 'Training Accuracy')\n",
        "plt.plot(epochs, val_acc, 'y', label = 'Validation Accuracy')\n",
        "plt.xlabel('Epochs')\n",
        "plt.ylabel('Accuracy')\n",
        "plt.legend()\n",
        "plt.show()"
      ],
      "execution_count": 17,
      "outputs": [
        {
          "output_type": "display_data",
          "data": {
            "image/png": "[encoded data removed]",
            "text/plain": [
              "<matplotlib.figure.Figure at 0x7f78b0421358>"
            ]
          },
          "metadata": {
            "tags": []
          }
        }
      ]
    },
    {
      "metadata": {
        "id": "8d6QMvUYhS3v",
        "colab_type": "code",
        "colab": {
          "base_uri": "https://localhost:8080/",
          "height": 52
        },
        "outputId": "78c8d176-411e-4b62-ed63-4bcae12015e9"
      },
      "cell_type": "code",
      "source": [
        "# Evaluating on Test Data\n",
        "\n",
        "test_loss, test_acc = model.evaluate(test_data, test_labels)\n",
        "test_loss, test_acc"
      ],
      "execution_count": 18,
      "outputs": [
        {
          "output_type": "stream",
          "text": [
            "10000/10000 [==============================] - 1s 115us/step\n"
          ],
          "name": "stdout"
        },
        {
          "output_type": "execute_result",
          "data": {
            "text/plain": [
              "(0.031344289843946174, 0.9914)"
            ]
          },
          "metadata": {
            "tags": []
          },
          "execution_count": 18
        }
      ]
    }
  ]
}
